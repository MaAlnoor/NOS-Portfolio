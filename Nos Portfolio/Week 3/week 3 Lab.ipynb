{
 "cells": [
  {
   "cell_type": "markdown",
   "metadata": {},
   "source": [
    "Core Concepts:\n",
    "\n",
    "Sockets: Communication endpoints with an IP address and port number.\n",
    "\n",
    "IP Address: Numerical identifier for a device on a network.\n",
    "\n",
    "Port Number: Identifies a specific application or process on a device.\n",
    "\n",
    "Protocols: Rules for data transmission, such as TCP and UDP.\n",
    "\n",
    "\n",
    "\n",
    "\n",
    "Key Functions:\n",
    "\n",
    "socket.socket(): Creates a new socket.\n",
    "\n",
    "socket.bind(): Binds a socket to an IP address and port.\n",
    "\n",
    "socket.listen(): Puts a server socket into listening mode.\n",
    "\n",
    "socket.accept(): Accepts a connection from a client.\n",
    "\n",
    "socket.connect(): Establishes a connection to a remote server.\n",
    "\n",
    "socket.send(): Sends data through a socket.\n",
    "\n",
    "socket.recv(): Receives data from a socket.\n",
    "\n",
    "socket.close(): Closes a socket connection."
   ]
  },
  {
   "cell_type": "code",
   "execution_count": 1,
   "metadata": {},
   "outputs": [
    {
     "name": "stdout",
     "output_type": "stream",
     "text": [
      "Note: you may need to restart the kernel to use updated packages.\n"
     ]
    },
    {
     "name": "stderr",
     "output_type": "stream",
     "text": [
      "ERROR: Could not find a version that satisfies the requirement socket (from versions: none)\n",
      "\n",
      "[notice] A new release of pip is available: 24.3.1 -> 25.0.1\n",
      "[notice] To update, run: python.exe -m pip install --upgrade pip\n",
      "ERROR: No matching distribution found for socket\n"
     ]
    }
   ],
   "source": [
    "pip install socket"
   ]
  },
  {
   "cell_type": "code",
   "execution_count": 1,
   "metadata": {},
   "outputs": [
    {
     "name": "stdout",
     "output_type": "stream",
     "text": [
      "The IP address of www.google.com is 142.250.178.4\n"
     ]
    }
   ],
   "source": [
    "import socket\n",
    "def get_ip_address(website_url):\n",
    "    try:\n",
    "        ip_address = socket.gethostbyname(website_url)\n",
    "        print(f\"The IP address of {website_url} is {ip_address}\")\n",
    "    except socket.gaierror:\n",
    "        print(f\"Unable to get the IP address for {website_url}\")\n",
    "# Example usage\n",
    "website = input(\"Enter the website URL (without 'https://'): \")\n",
    "get_ip_address(website)"
   ]
  },
  {
   "cell_type": "code",
   "execution_count": null,
   "metadata": {},
   "outputs": [],
   "source": [
    "import subprocess\n",
    "\n",
    "def tracert(domain):\n",
    "    try:\n",
    "        result = subprocess.run([\"tracert\", domain], capture_output=True, text=True)\n",
    "        print(result.stdout)\n",
    "    except FileNotFoundError:\n",
    "        print(\"tracert command not found. Make sure it's available.\")\n",
    "    except Exception as e: # Catching general exceptions for now\n",
    "        print(f\"An error occurred: {e}\")\n",
    "\n",
    "domain = input(\"Enter the website or IP address: \")\n",
    "tracert(domain)\n"
   ]
  },
  {
   "cell_type": "code",
   "execution_count": 1,
   "metadata": {},
   "outputs": [
    {
     "name": "stdout",
     "output_type": "stream",
     "text": [
      "HTTP/1.1 200 OK\n",
      "Content-Type: text/html\n",
      "ETag: \"84238dfc8092e5d9c0dac8ef93371a07:1736799080.121134\"\n",
      "Last-Modified: Mon, 13 Jan 2025 20:11:20 GMT\n",
      "Cache-Control: max-age=543\n",
      "Date: Wed, 19 Mar 2025 20:18:45 GMT\n",
      "Content-Length: 1256\n",
      "Connection: keep-alive\n",
      "\n",
      "<!doctype html>\n",
      "<html>\n",
      "<head>\n",
      "    <title>Example Domain</title>\n",
      "\n",
      "    <meta charset=\"utf-8\" />\n",
      "    <meta http-equiv=\"Content-type\" content=\"text/html; charset=utf-8\" />\n",
      "    <meta name=\"viewport\" content=\"width=device-width, initial-scale=1\" />\n",
      "    <style type=\"text/css\">\n",
      "    body {\n",
      "        background-color: #f0f0f2;\n",
      "        margin: 0;\n",
      "        padding: 0;\n",
      "        font-family: -apple-system, system-ui, BlinkMacSystemFont, \"Segoe UI\", \"Open Sans\", \"Helvetica Neue\", Helvetica, Arial, sans-serif;\n",
      "        \n",
      "    }\n",
      "    div {\n",
      "        width: 600px;\n",
      "        margin: 5em auto;\n",
      "        padding: 2em;\n",
      "        background-color: #fdfdff;\n",
      "        border-radius: 0.5em;\n",
      "        box-shadow: 2px 3px 7px 2px rgba(0,0,0,0.02);\n",
      "    }\n",
      "    a:link, a:visited {\n",
      "        color: #38488f;\n",
      "        text-decoration: none;\n",
      "    }\n",
      "    @media (max-width: 700px) {\n",
      "        div {\n",
      "            margin: 0 auto;\n",
      "            width: auto;\n",
      "        }\n",
      "    }\n",
      "    </style>    \n",
      "</head>\n",
      "\n",
      "<body>\n",
      "<div>\n",
      "    <h1>Example Domain</h1>\n",
      "    <p>This domain is for use in illustrative examples in documents. You may use this\n",
      "    domain in literature without prior coordination or asking for permission.</p>\n",
      "    <p><a href=\"https://www.iana.org/domains/example\">More information...</a></p>\n",
      "</div>\n",
      "</body>\n",
      "</html>\n",
      "\n"
     ]
    }
   ],
   "source": [
    "import socket\n",
    "\n",
    "# Create a socket object\n",
    "client_socket = socket.socket(socket.AF_INET, socket.SOCK_STREAM)\n",
    "\n",
    "# Define the server address and port\n",
    "server_address = ('www.example.com', 80)\n",
    "\n",
    "# Connect to the server\n",
    "client_socket.connect(server_address)\n",
    "\n",
    "# Send an HTTP GET request\n",
    "request = \"GET / HTTP/1.1\\r\\nHost: www.example.com\\r\\n\\r\\n\"\n",
    "client_socket.send(request.encode())\n",
    "\n",
    "# Receive the response\n",
    "response = client_socket.recv(4096)\n",
    "print(response.decode())\n",
    "\n",
    "# Close the socket\n",
    "client_socket.close()"
   ]
  },
  {
   "cell_type": "code",
   "execution_count": 1,
   "metadata": {},
   "outputs": [
    {
     "name": "stdout",
     "output_type": "stream",
     "text": [
      "Collecting requests\n",
      "  Downloading requests-2.32.3-py3-none-any.whl.metadata (4.6 kB)\n",
      "Collecting charset-normalizer<4,>=2 (from requests)\n",
      "  Downloading charset_normalizer-3.4.1-cp313-cp313-win_amd64.whl.metadata (36 kB)\n",
      "Collecting idna<4,>=2.5 (from requests)\n",
      "  Downloading idna-3.10-py3-none-any.whl.metadata (10 kB)\n",
      "Collecting urllib3<3,>=1.21.1 (from requests)\n",
      "  Downloading urllib3-2.3.0-py3-none-any.whl.metadata (6.5 kB)\n",
      "Collecting certifi>=2017.4.17 (from requests)\n",
      "  Downloading certifi-2025.1.31-py3-none-any.whl.metadata (2.5 kB)\n",
      "Downloading requests-2.32.3-py3-none-any.whl (64 kB)\n",
      "Downloading certifi-2025.1.31-py3-none-any.whl (166 kB)\n",
      "Downloading charset_normalizer-3.4.1-cp313-cp313-win_amd64.whl (102 kB)\n",
      "Downloading idna-3.10-py3-none-any.whl (70 kB)\n",
      "Downloading urllib3-2.3.0-py3-none-any.whl (128 kB)\n",
      "Installing collected packages: urllib3, idna, charset-normalizer, certifi, requests\n",
      "Successfully installed certifi-2025.1.31 charset-normalizer-3.4.1 idna-3.10 requests-2.32.3 urllib3-2.3.0\n"
     ]
    },
    {
     "name": "stderr",
     "output_type": "stream",
     "text": [
      "\n",
      "[notice] A new release of pip is available: 24.3.1 -> 25.0.1\n",
      "[notice] To update, run: python.exe -m pip install --upgrade pip\n"
     ]
    }
   ],
   "source": [
    "!pip install requests"
   ]
  },
  {
   "cell_type": "code",
   "execution_count": 2,
   "metadata": {},
   "outputs": [
    {
     "name": "stdout",
     "output_type": "stream",
     "text": [
      "<!doctype html>\n",
      "<html>\n",
      "<head>\n",
      "    <title>Example Domain</title>\n",
      "\n",
      "    <meta charset=\"utf-8\" />\n",
      "    <meta http-equiv=\"Content-type\" content=\"text/html; charset=utf-8\" />\n",
      "    <meta name=\"viewport\" content=\"width=device-width, initial-scale=1\" />\n",
      "    <style type=\"text/css\">\n",
      "    body {\n",
      "        background-color: #f0f0f2;\n",
      "        margin: 0;\n",
      "        padding: 0;\n",
      "        font-family: -apple-system, system-ui, BlinkMacSystemFont, \"Segoe UI\", \"Open Sans\", \"Helvetica Neue\", Helvetica, Arial, sans-serif;\n",
      "        \n",
      "    }\n",
      "    div {\n",
      "        width: 600px;\n",
      "        margin: 5em auto;\n",
      "        padding: 2em;\n",
      "        background-color: #fdfdff;\n",
      "        border-radius: 0.5em;\n",
      "        box-shadow: 2px 3px 7px 2px rgba(0,0,0,0.02);\n",
      "    }\n",
      "    a:link, a:visited {\n",
      "        color: #38488f;\n",
      "        text-decoration: none;\n",
      "    }\n",
      "    @media (max-width: 700px) {\n",
      "        div {\n",
      "            margin: 0 auto;\n",
      "            width: auto;\n",
      "        }\n",
      "    }\n",
      "    </style>    \n",
      "</head>\n",
      "\n",
      "<body>\n",
      "<div>\n",
      "    <h1>Example Domain</h1>\n",
      "    <p>This domain is for use in illustrative examples in documents. You may use this\n",
      "    domain in literature without prior coordination or asking for permission.</p>\n",
      "    <p><a href=\"https://www.iana.org/domains/example\">More information...</a></p>\n",
      "</div>\n",
      "</body>\n",
      "</html>\n",
      "\n"
     ]
    }
   ],
   "source": [
    "import requests\n",
    "\n",
    "response = requests.get('http://www.example.com')\n",
    "print(response.text)\n"
   ]
  },
  {
   "cell_type": "code",
   "execution_count": 3,
   "metadata": {},
   "outputs": [
    {
     "name": "stdout",
     "output_type": "stream",
     "text": [
      "Status Code: 201\n",
      "Response Body: {'title': 'Sample Post', 'body': 'This is an example post body.', 'userId': 1, 'id': 101}\n"
     ]
    }
   ],
   "source": [
    "import requests\n",
    "url = 'https://jsonplaceholder.typicode.com/posts'\n",
    "data = {\n",
    "    \"title\": \"Sample Post\",\n",
    "    \"body\": \"This is an example post body.\",\n",
    "    \"userId\": 1\n",
    "}\n",
    "\n",
    "response = requests.post(url, json=data)\n",
    "print(f\"Status Code: {response.status_code}\")\n",
    "print(\"Response Body:\", response.json())"
   ]
  },
  {
   "cell_type": "code",
   "execution_count": 4,
   "metadata": {},
   "outputs": [
    {
     "name": "stdout",
     "output_type": "stream",
     "text": [
      "Status Code: 200\n"
     ]
    }
   ],
   "source": [
    "import requests\n",
    "\n",
    "url = 'https://jsonplaceholder.typicode.com/posts/1'\n",
    "updated_data = {\n",
    "    \"id\": 1,\n",
    "    \"title\": \"Updated Title\",\n",
    "    \"body\": \"This post content has been updated.\",\n",
    "    \"userId\": 1\n",
    "}\n",
    "\n",
    "response = requests.put(url, json=updated_data)\n",
    "print(f\"Status Code: {response.status_code}\")"
   ]
  },
  {
   "cell_type": "code",
   "execution_count": 5,
   "metadata": {},
   "outputs": [
    {
     "name": "stdout",
     "output_type": "stream",
     "text": [
      "Status Code: 200\n",
      "Resource successfully deleted.\n"
     ]
    }
   ],
   "source": [
    "import requests\n",
    "\n",
    "url = 'https://jsonplaceholder.typicode.com/posts/1'\n",
    "\n",
    "response = requests.delete(url)\n",
    "print(f\"Status Code: {response.status_code}\")\n",
    "if response.status_code == 200:\n",
    "    print(\"Resource successfully deleted.\")\n"
   ]
  }
 ],
 "metadata": {
  "kernelspec": {
   "display_name": "Python 3",
   "language": "python",
   "name": "python3"
  },
  "language_info": {
   "codemirror_mode": {
    "name": "ipython",
    "version": 3
   },
   "file_extension": ".py",
   "mimetype": "text/x-python",
   "name": "python",
   "nbconvert_exporter": "python",
   "pygments_lexer": "ipython3",
   "version": "3.13.2"
  }
 },
 "nbformat": 4,
 "nbformat_minor": 2
}
