{
 "cells": [
  {
   "cell_type": "markdown",
   "metadata": {},
   "source": [
    "i. Create a list of 5 different fruits and print the list.\n",
    "\n",
    "ii. Create a tuple of 3 different animals and print the tuple.\n",
    "\n",
    "iii. Create a dictionary of 3 different key-value pairs where the keys are names of\n",
    "programming languages and the values are their release dates.\n",
    "\n",
    "iv. Create a set of 3 different colours and print the set.\n",
    "\n",
    "v. Create a string variable that contains the sentence \"Python is an easy-to-learn\n",
    "programming language.\""
   ]
  },
  {
   "cell_type": "code",
   "execution_count": 1,
   "metadata": {},
   "outputs": [
    {
     "name": "stdout",
     "output_type": "stream",
     "text": [
      "['Apple', 'Banana', 'Cherry', 'Date', 'Elderberry']\n"
     ]
    }
   ],
   "source": [
    "fruits = [\"Apple\", \"Banana\", \"Cherry\", \"Date\", \"Elderberry\"]\n",
    "print(fruits)"
   ]
  },
  {
   "cell_type": "code",
   "execution_count": 2,
   "metadata": {},
   "outputs": [
    {
     "name": "stdout",
     "output_type": "stream",
     "text": [
      "('Lion', 'Tiger', 'Bear')\n"
     ]
    }
   ],
   "source": [
    "animals = (\"Lion\", \"Tiger\", \"Bear\")\n",
    "print(animals)"
   ]
  },
  {
   "cell_type": "code",
   "execution_count": 3,
   "metadata": {},
   "outputs": [
    {
     "name": "stdout",
     "output_type": "stream",
     "text": [
      "{'Python': '1991-02-20', 'Java': '1995-05-23', 'JavaScript': '1995-12-04'}\n"
     ]
    }
   ],
   "source": [
    "languages = {\n",
    "    \"Python\": \"1991-02-20\",\n",
    "    \"Java\": \"1995-05-23\",\n",
    "    \"JavaScript\": \"1995-12-04\"\n",
    "}\n",
    "print(languages)"
   ]
  },
  {
   "cell_type": "code",
   "execution_count": 4,
   "metadata": {},
   "outputs": [
    {
     "name": "stdout",
     "output_type": "stream",
     "text": [
      "{'Blue', 'Green', 'Red'}\n"
     ]
    }
   ],
   "source": [
    "colours = {\"Red\", \"Green\", \"Blue\"}\n",
    "print(colours)"
   ]
  },
  {
   "cell_type": "code",
   "execution_count": 5,
   "metadata": {},
   "outputs": [
    {
     "name": "stdout",
     "output_type": "stream",
     "text": [
      "Python is an easy-to-learn programming language.\n"
     ]
    }
   ],
   "source": [
    "sentence = \"Python is an easy-to-learn programming language.\"\n",
    "print(sentence)"
   ]
  },
  {
   "cell_type": "markdown",
   "metadata": {},
   "source": [
    "1 Write a script that takes a user input of a number and checks if it is positive, negative or\n",
    "zero. Print the results.\n",
    "\n",
    "2 Write a script that takes a user input of a string and checks if it starts with a vowel or\n",
    "consonant. Print the results.\n",
    "\n",
    "3 Write a script that takes a user input of two numbers and checks if they are equal or not.\n",
    "Print the results"
   ]
  },
  {
   "cell_type": "code",
   "execution_count": 8,
   "metadata": {},
   "outputs": [
    {
     "name": "stdout",
     "output_type": "stream",
     "text": [
      "The number is negative.\n"
     ]
    }
   ],
   "source": [
    "number = float(input(\"Enter a number: \"))\n",
    "\n",
    "if number > 0:\n",
    "    print(\"The number is positive.\")\n",
    "elif number < 0:\n",
    "    print(\"The number is negative.\")\n",
    "else:\n",
    "    print(\"The number is zero.\")"
   ]
  },
  {
   "cell_type": "code",
   "execution_count": 12,
   "metadata": {},
   "outputs": [
    {
     "name": "stdout",
     "output_type": "stream",
     "text": [
      "The string starts with a vowel.\n"
     ]
    }
   ],
   "source": [
    "string = input(\"Enter a string:\").strip().lower()  # Convert to lowercase for easier comparison\n",
    "\n",
    "if string[0] == \"a\" or string[0] == \"e\" or string[0] == \"i\" or string[0] == \"o\" or string[0] == \"u\":\n",
    "    print(\"The string starts with a vowel.\")\n",
    "else:\n",
    "    print(\"It doesn't start with a vowel.\")"
   ]
  },
  {
   "cell_type": "code",
   "execution_count": 14,
   "metadata": {},
   "outputs": [
    {
     "name": "stdout",
     "output_type": "stream",
     "text": [
      "The numbers are equal.\n"
     ]
    }
   ],
   "source": [
    "num1 = float(input(\"Enter the first number: \"))\n",
    "num2 = float(input(\"Enter the second number: \"))\n",
    "\n",
    "if num1 == num2:\n",
    "    print(\"The numbers are equal.\")\n",
    "else:\n",
    "    print(\"The numbers are not equal.\")"
   ]
  },
  {
   "cell_type": "markdown",
   "metadata": {},
   "source": [
    "i. Write a script that prints the numbers from 1 to 10 using a for loop.\n",
    "\n",
    "ii. Write a script that prints the even numbers from 2 to 10 using a for loop.\n",
    "\n",
    "iii. Write a script that prints the first 5 numbers of the Fibonacci sequence using a while\n",
    "loop."
   ]
  },
  {
   "cell_type": "code",
   "execution_count": 15,
   "metadata": {},
   "outputs": [
    {
     "name": "stdout",
     "output_type": "stream",
     "text": [
      "1\n",
      "2\n",
      "3\n",
      "4\n",
      "5\n",
      "6\n",
      "7\n",
      "8\n",
      "9\n",
      "10\n"
     ]
    }
   ],
   "source": [
    "for i in range(1, 11):\n",
    "    print(i)"
   ]
  },
  {
   "cell_type": "code",
   "execution_count": 16,
   "metadata": {},
   "outputs": [
    {
     "name": "stdout",
     "output_type": "stream",
     "text": [
      "2\n",
      "4\n",
      "6\n",
      "8\n",
      "10\n"
     ]
    }
   ],
   "source": [
    "for i in range(2, 11, 2):\n",
    "    print(i)"
   ]
  },
  {
   "cell_type": "code",
   "execution_count": 19,
   "metadata": {},
   "outputs": [
    {
     "name": "stdout",
     "output_type": "stream",
     "text": [
      "0\n",
      "1\n",
      "1\n",
      "2\n",
      "3\n"
     ]
    }
   ],
   "source": [
    "a = 0\n",
    "b = 1\n",
    "count = 0\n",
    "\n",
    "while count < 5:\n",
    "    print(a)\n",
    "    a, b = b, a + b \n",
    "    count += 1"
   ]
  },
  {
   "cell_type": "markdown",
   "metadata": {},
   "source": [
    "i. Write a function that takes two numbers as parameters and returns their sum.\n",
    "\n",
    "ii. Write a function that takes a list of numbers as a parameter and returns the largest\n",
    "number in the list.\n",
    "\n",
    "iii. Write a function that takes a string as a parameter and returns the number of vowels\n",
    "in the string.\n"
   ]
  },
  {
   "cell_type": "code",
   "execution_count": 20,
   "metadata": {},
   "outputs": [
    {
     "name": "stdout",
     "output_type": "stream",
     "text": [
      "Sum: 15\n"
     ]
    }
   ],
   "source": [
    "def sum_two_numbers(num1, num2):\n",
    "    return num1 + num2\n",
    "\n",
    "result = sum_two_numbers(5, 10)\n",
    "print(\"Sum:\", result)  "
   ]
  },
  {
   "cell_type": "code",
   "execution_count": 21,
   "metadata": {},
   "outputs": [
    {
     "name": "stdout",
     "output_type": "stream",
     "text": [
      "Largest number: 9\n"
     ]
    }
   ],
   "source": [
    "def find_largest_number(numbers):\n",
    "    return max(numbers)\n",
    "\n",
    "numbers_list = [4, 9, 2, 7, 5]\n",
    "largest = find_largest_number(numbers_list)\n",
    "print(\"Largest number:\", largest) "
   ]
  },
  {
   "cell_type": "code",
   "execution_count": 26,
   "metadata": {},
   "outputs": [
    {
     "name": "stdout",
     "output_type": "stream",
     "text": [
      "Number of vowels: 3\n"
     ]
    }
   ],
   "source": [
    "def count_vowels(input_string):\n",
    "    vowels = \"aeiouAEIOU\"\n",
    "    count = 0\n",
    "    for char in input_string:\n",
    "        if char in vowels:\n",
    "            count += 1\n",
    "    return count\n",
    "\n",
    "text = \"Hello, World!\"\n",
    "vowel_count = count_vowels(text)\n",
    "print(\"Number of vowels:\", vowel_count)  "
   ]
  },
  {
   "cell_type": "markdown",
   "metadata": {},
   "source": [
    "In this exercise, participants will create a script that checks the strength of a\n",
    "password based on certain criteria. Write a Python script that checks the strength of\n",
    "a password based on the following criteria:\n",
    "1. The password must contain at least 8 characters.\n",
    "2. The password must contain at least one uppercase letter.\n",
    "3. The password must contain at least one lowercase letter.\n",
    "4. The password must contain at least one special character (e.g. @, #, $,\n",
    "%, etc.).\n",
    "If the password meets all the above criteria, print \"Password is strong\". If the\n",
    "password fails to meet any of the above criteria, print a message indicating which\n",
    "criteria the password failed to meet.\n"
   ]
  },
  {
   "cell_type": "code",
   "execution_count": 5,
   "metadata": {},
   "outputs": [
    {
     "name": "stdout",
     "output_type": "stream",
     "text": [
      "password = \"Pa$$word123\"\n",
      "Password is strong\n",
      "password = \"password\"\n",
      "Password must contain at least one uppercase letter, contain at least one special character.\n"
     ]
    }
   ],
   "source": [
    "def check_password_strength(password):\n",
    "    special_characters = \"!@#$%^&*()-_=+[]{};:'\\\",.<>/?\\\\|`~\"\n",
    "\n",
    "    # Check criteria\n",
    "    length_check = len(password) >= 8\n",
    "    uppercase_check = any(char.isupper() for char in password)\n",
    "    lowercase_check = any(char.islower() for char in password)\n",
    "    special_char_check = any(char in special_characters for char in password)\n",
    "\n",
    "    if length_check and uppercase_check and lowercase_check and special_char_check:\n",
    "        print(\"Password is strong\")\n",
    "    else:\n",
    "        failed_criteria = []\n",
    "        if not length_check:\n",
    "            failed_criteria.append(\"be at least 8 characters long\")\n",
    "        if not uppercase_check:\n",
    "            failed_criteria.append(\"contain at least one uppercase letter\")\n",
    "        if not lowercase_check:\n",
    "            failed_criteria.append(\"contain at least one lowercase letter\")\n",
    "        if not special_char_check:\n",
    "            failed_criteria.append(\"contain at least one special character\")\n",
    "\n",
    "        print(\"Password must \" + \", \".join(failed_criteria) + \".\")\n",
    "\n",
    "\n",
    "\n",
    "password1 = \"Pa$$word123\"\n",
    "print('password = \"Pa$$word123\"')\n",
    "check_password_strength(password1)\n",
    "\n",
    "password2 = \"password\"\n",
    "print('password = \"password\"')\n",
    "check_password_strength(password2)"
   ]
  },
  {
   "cell_type": "markdown",
   "metadata": {},
   "source": [
    "In this exercise, create a script that encrypts and decrypts messages using the\n",
    "Caesar cipher.\n",
    "\n",
    "The Caesar cipher is a simple encryption technique that involves shifting each letter\n",
    "of the message by a certain number of positions down the alphabet. For example, if\n",
    "we shift the letter \"A\" by 3 positions, we get the letter \"D\". Similarly, if we shift the\n",
    "letter \"B\" by 2 positions, we get the letter \"D\".\n",
    "\n",
    "Write a Python script that takes a message and a key as inputs and\n",
    "encrypts/decrypts the message using the Caesar cipher. The key is the number of\n",
    "positions each letter should be shifted down the alphabet.\n"
   ]
  },
  {
   "cell_type": "code",
   "execution_count": 9,
   "metadata": {},
   "outputs": [
    {
     "name": "stdout",
     "output_type": "stream",
     "text": [
      "Input:\n",
      "message =  HELLO\n",
      "3\n",
      "encrypt\n",
      "answer KHOOR\n",
      "\n",
      "Input:\n",
      "message = KHOOR\n",
      "3\n",
      "decrypt\n",
      "answer HELLO\n"
     ]
    }
   ],
   "source": [
    "def caesar_cipher(message, key, mode):\n",
    "    result = \"\"\n",
    "    for char in message:\n",
    "        if char.isalpha():  # Only shift alphabetic characters\n",
    "            shift = key if mode == \"encrypt\" else -key  # Determine shift direction\n",
    "            # Handle uppercase and lowercase letters\n",
    "            if char.isupper():\n",
    "                result += chr((ord(char) - ord('A') + shift) % 26 + ord('A'))\n",
    "            else:\n",
    "                result += chr((ord(char) - ord('a') + shift) % 26 + ord('a'))\n",
    "        else:\n",
    "            result += char  \n",
    "    return result\n",
    "\n",
    "# Example usage\n",
    "message1 = \"HELLO\"\n",
    "key1 = 3\n",
    "mode1 = \"encrypt\"\n",
    "\n",
    "print(\"Input:\")\n",
    "print(f'message = ', message1)\n",
    "print(key1)\n",
    "print(mode1)\n",
    "print('answer', caesar_cipher(message1, key1, mode1))  # Output: KHOOR\n",
    "\n",
    "message2 = \"KHOOR\"\n",
    "key2 = 3\n",
    "mode2 = \"decrypt\"\n",
    "\n",
    "print(\"\\nInput:\")\n",
    "print(f'message =', message2)\n",
    "print(key2)\n",
    "print(mode2)\n",
    "print('answer', caesar_cipher(message2, key2, mode2))  # Output: HELLO"
   ]
  },
  {
   "cell_type": "markdown",
   "metadata": {},
   "source": [
    "Write a Python script that plays the game of Hangman. The script should randomly\n",
    "select a word from a list of words, and the user should have to guess the letters in\n",
    "the word one by one. The user is allowed a certain number of incorrect guesses\n",
    "before the game is over."
   ]
  },
  {
   "cell_type": "code",
   "execution_count": null,
   "metadata": {},
   "outputs": [
    {
     "name": "stdout",
     "output_type": "stream",
     "text": [
      "Welcome to Hangman!\n",
      "_ _ _ _ _ _\n",
      "Incorrect guess! You have 5 guesses left.\n",
      "_ _ _ _ _ _\n",
      "Incorrect guess! You have 4 guesses left.\n",
      "_ _ _ _ _ _\n",
      "p _ _ _ _ _\n",
      "p y _ _ _ _\n",
      "p y t _ _ _\n",
      "Incorrect guess! You have 3 guesses left.\n",
      "p y t _ _ _\n",
      "Incorrect guess! You have 2 guesses left.\n",
      "p y t _ _ _\n",
      "Incorrect guess! You have 1 guesses left.\n",
      "p y t _ _ _\n",
      "Incorrect guess! You have 0 guesses left.\n",
      "p y t _ _ _\n",
      "Sorry, you ran out of guesses. The word was 'python'.\n"
     ]
    }
   ],
   "source": [
    "import random\n",
    "\n",
    "def hangman():\n",
    "    word_list = [\"python\", \"java\", \"javascript\"]\n",
    "    \n",
    "    word = random.choice(word_list)\n",
    "    \n",
    "    max_guesses = 6\n",
    "    incorrect_guesses = 0\n",
    "    \n",
    "    guessed_letters = []\n",
    "    \n",
    "    display_word = [\"_\"] * len(word)\n",
    "    \n",
    "    print(\"Welcome to Hangman!\")\n",
    "    print(\" \".join(display_word))\n",
    "    \n",
    "    while incorrect_guesses < max_guesses:\n",
    "        guess = input(\"Guess a letter: \").lower()\n",
    "        \n",
    "        if guess in word:\n",
    "            for i in range(len(word)):\n",
    "                if word[i] == guess:\n",
    "                    display_word[i] = guess\n",
    "            print(\" \".join(display_word))\n",
    "            \n",
    "            if \"_\" not in display_word:\n",
    "                print(f\"Congratulations, you guessed the word '{word}'!\")\n",
    "                return\n",
    "        else:\n",
    "            incorrect_guesses += 1\n",
    "            print(f\"Incorrect guess! You have {max_guesses - incorrect_guesses} guesses left.\")\n",
    "            print(\" \".join(display_word))\n",
    "        \n",
    "        guessed_letters.append(guess)\n",
    "    \n",
    "    print(f\"Sorry, you ran out of guesses. The word was '{word}'.\")\n",
    "\n",
    "hangman()"
   ]
  }
 ],
 "metadata": {
  "kernelspec": {
   "display_name": "Python 3",
   "language": "python",
   "name": "python3"
  },
  "language_info": {
   "codemirror_mode": {
    "name": "ipython",
    "version": 3
   },
   "file_extension": ".py",
   "mimetype": "text/x-python",
   "name": "python",
   "nbconvert_exporter": "python",
   "pygments_lexer": "ipython3",
   "version": "3.13.2"
  }
 },
 "nbformat": 4,
 "nbformat_minor": 2
}
