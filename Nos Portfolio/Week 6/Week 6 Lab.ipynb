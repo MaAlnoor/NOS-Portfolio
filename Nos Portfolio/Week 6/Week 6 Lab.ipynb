{
 "cells": [
  {
   "cell_type": "markdown",
   "metadata": {},
   "source": [
    "Exercise 1"
   ]
  },
  {
   "cell_type": "code",
   "execution_count": 1,
   "metadata": {},
   "outputs": [
    {
     "name": "stdout",
     "output_type": "stream",
     "text": [
      "Address: 192.168.1.1\n",
      "Network: 192.168.1.0/24\n",
      "Netmask: 255.255.255.0\n",
      "Broadcast: 192.168.1.255\n",
      "First Host: 192.168.1.1\n",
      "Last Host: 192.168.1.254\n",
      "Usable Hosts: 254\n",
      "Is Private: True\n"
     ]
    }
   ],
   "source": [
    "import ipaddress\n",
    "\n",
    "def analyse_ip(ip_str):\n",
    "    ip = ipaddress.ip_interface(ip_str)\n",
    "    network = ip.network\n",
    "    print(f\"Address: {ip.ip}\")\n",
    "    print(f\"Network: {network}\")\n",
    "    print(f\"Netmask: {ip.netmask}\")\n",
    "    print(f\"Broadcast: {network.broadcast_address}\")\n",
    "    print(f\"First Host: {network.network_address + 1}\")\n",
    "    print(f\"Last Host: {network.broadcast_address - 1}\")\n",
    "    print(f\"Usable Hosts: {network.num_addresses - 2}\")\n",
    "    print(f\"Is Private: {ip.ip.is_private}\")\n",
    "\n",
    "\n",
    "analyse_ip('192.168.1.1/24')"
   ]
  },
  {
   "cell_type": "markdown",
   "metadata": {},
   "source": [
    "Exercise 2"
   ]
  },
  {
   "cell_type": "code",
   "execution_count": 6,
   "metadata": {},
   "outputs": [
    {
     "name": "stdout",
     "output_type": "stream",
     "text": [
      "Your Computer Name is:DonMahon\n",
      "Your Computer IP Address is:192.168.1.194\n",
      "Your Ip is private\n"
     ]
    }
   ],
   "source": [
    "import socket\n",
    "import ipaddress\n",
    "\n",
    "hostname = socket.gethostname()\n",
    "IPAddr = socket.gethostbyname(hostname)\n",
    "\n",
    "print(\"Your Computer Name is:\" + hostname)\n",
    "print(\"Your Computer IP Address is:\" + IPAddr)\n",
    "\n",
    "def private_ip(IPAddr):\n",
    "    ip = ipaddress.ip_address(IPAddr)\n",
    "    return ip.is_private\n",
    "\n",
    "if private_ip(IPAddr):\n",
    "    print(\"Your Ip is private\")\n",
    "else:\n",
    "    print(\"Your Ip is public\")\n"
   ]
  },
  {
   "cell_type": "markdown",
   "metadata": {},
   "source": [
    "Exercise 3"
   ]
  },
  {
   "cell_type": "code",
   "execution_count": 7,
   "metadata": {},
   "outputs": [
    {
     "name": "stdout",
     "output_type": "stream",
     "text": [
      "The IP address of www.gold.ac.uk is 159.100.136.66\n"
     ]
    }
   ],
   "source": [
    "import socket\n",
    "\n",
    "def get_ip_address(website_url):\n",
    "    try:\n",
    "        ip_address = socket.gethostbyname(website_url)\n",
    "        print(f\"The IP address of {website_url} is {ip_address}\")\n",
    "    except socket.gaierror:\n",
    "        print(f\"Unable to get the IP address for {website_url}\")\n",
    "\n",
    "website = input(\"Enter the website URL (without 'https://'): \")\n",
    "get_ip_address(website)"
   ]
  },
  {
   "cell_type": "markdown",
   "metadata": {},
   "source": [
    "Exercise 4"
   ]
  },
  {
   "cell_type": "code",
   "execution_count": 10,
   "metadata": {},
   "outputs": [
    {
     "name": "stdout",
     "output_type": "stream",
     "text": [
      "Engineering: 172.16.0.0/26\n",
      "Marketing: 172.16.0.0/27\n",
      "Finance: 172.16.0.0/28\n",
      "HR: 172.16.0.0/29\n"
     ]
    }
   ],
   "source": [
    "import ipaddress\n",
    "\n",
    "def calculate_subnet(hosts, network):\n",
    "    prefix = 32 - (hosts + 2).bit_length()\n",
    "    return next(network.subnets(new_prefix=prefix))\n",
    "\n",
    "baseNetwork = ipaddress.ip_network('172.16.0.0/16')\n",
    "\n",
    "engineering = calculate_subnet(30, baseNetwork)\n",
    "marketing = calculate_subnet(15, baseNetwork)\n",
    "finance = calculate_subnet(10, baseNetwork)\n",
    "hr = calculate_subnet(5, baseNetwork)\n",
    "\n",
    "print(f\"Engineering: {engineering}\")\n",
    "print(f\"Marketing: {marketing}\")\n",
    "print(f\"Finance: {finance}\")\n",
    "print(f\"HR: {hr}\")"
   ]
  },
  {
   "cell_type": "markdown",
   "metadata": {},
   "source": [
    "Exercise 5"
   ]
  },
  {
   "cell_type": "code",
   "execution_count": 11,
   "metadata": {},
   "outputs": [
    {
     "name": "stdout",
     "output_type": "stream",
     "text": [
      "=== Simple DHCP Simulation ===\n",
      "\n",
      "[CLIENT] Step 1: Sending DHCP DISCOVER\n",
      "\n",
      "[SERVER] Step 2: Making DHCP OFFER\n",
      "\n",
      "[CLIENT] Step 3: Sending DHCP REQUEST\n",
      "\n",
      "[SERVER] Step 4: Sending DHCP ACK\n",
      "\n",
      "=== Result ===\n",
      "Client AA:BB:CC:DD:EE:FF got IP: 192.168.1.100\n",
      "Server leases: {'AA:BB:CC:DD:EE:FF': '192.168.1.100'}\n"
     ]
    }
   ],
   "source": [
    "# dhcp_simple.py - Simplified DHCP Simulator\n",
    "# Server Configuration\n",
    "server = {\n",
    "    \"ip_pool\": [\"192.168.1.100\", \"192.168.1.101\", \"192.168.1.102\"],\n",
    "    \"leases\": {}\n",
    "}\n",
    "# Client Configuration\n",
    "client = {\n",
    "    \"mac\": \"AA:BB:CC:DD:EE:FF\",\n",
    "    \"ip\": None\n",
    "}\n",
    "def send_discover():\n",
    "    print(\"\\n[CLIENT] Step 1: Sending DHCP DISCOVER\")\n",
    "    return {\n",
    "        \"type\": \"DISCOVER\",\n",
    "        \"mac\": client[\"mac\"]\n",
    "    }\n",
    "\n",
    "def make_offer(discover):\n",
    "    print(\"\\n[SERVER] Step 2: Making DHCP OFFER\")\n",
    "    if not server[\"ip_pool\"]:\n",
    "        print(\"No IPs available!\")\n",
    "        return None\n",
    "    offered_ip = server[\"ip_pool\"].pop(0)\n",
    "    return {\n",
    "        \"type\": \"OFFER\",\n",
    "        \"mac\": discover[\"mac\"],\n",
    "        \"ip\": offered_ip\n",
    "    }\n",
    "\n",
    "def send_request(offer):\n",
    "    print(\"\\n[CLIENT] Step 3: Sending DHCP REQUEST\")\n",
    "    return {\n",
    "        \"type\": \"REQUEST\",\n",
    "        \"mac\": offer[\"mac\"],\n",
    "        \"ip\": offer[\"ip\"]\n",
    "    }\n",
    "\n",
    "def send_ack(request):\n",
    "    print(\"\\n[SERVER] Step 4: Sending DHCP ACK\")\n",
    "    server[\"leases\"][request[\"mac\"]] = request[\"ip\"]\n",
    "    return {\n",
    "        \"type\": \"ACK\",\n",
    "        \"mac\": request[\"mac\"],\n",
    "        \"ip\": request[\"ip\"]\n",
    "    }\n",
    "\n",
    "def main():\n",
    "    print(\"=== Simple DHCP Simulation ===\")\n",
    "    # Client starts process\n",
    "    discover = send_discover()\n",
    "    # Server responds\n",
    "    offer = make_offer(discover)\n",
    "    if not offer:\n",
    "        return\n",
    "    \n",
    "    # Client continues\n",
    "    request = send_request(offer)\n",
    "\n",
    "    # Server finalizes\n",
    "    ack = send_ack(request)\n",
    "\n",
    "    # Update client IP\n",
    "    client[\"ip\"] = ack[\"ip\"]\n",
    "    print(\"\\n=== Result ===\")\n",
    "    print(f\"Client {client['mac']} got IP: {client['ip']}\")\n",
    "    print(\"Server leases:\", server[\"leases\"])\n",
    "\n",
    "if __name__ == \"__main__\":\n",
    "    main()\n"
   ]
  }
 ],
 "metadata": {
  "kernelspec": {
   "display_name": "Python 3",
   "language": "python",
   "name": "python3"
  },
  "language_info": {
   "codemirror_mode": {
    "name": "ipython",
    "version": 3
   },
   "file_extension": ".py",
   "mimetype": "text/x-python",
   "name": "python",
   "nbconvert_exporter": "python",
   "pygments_lexer": "ipython3",
   "version": "3.13.2"
  }
 },
 "nbformat": 4,
 "nbformat_minor": 2
}
