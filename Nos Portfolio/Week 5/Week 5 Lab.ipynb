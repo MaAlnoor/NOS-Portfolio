{
 "cells": [
  {
   "cell_type": "markdown",
   "metadata": {},
   "source": [
    "CAH11-01 Networks and Operating\n",
    "Systems\n",
    "Transport Layer Part 2"
   ]
  },
  {
   "cell_type": "code",
   "execution_count": null,
   "metadata": {},
   "outputs": [
    {
     "name": "stdout",
     "output_type": "stream",
     "text": [
      "TCP Server is listening...\n"
     ]
    }
   ],
   "source": [
    "import socket\n",
    "\n",
    "# Create a TCP socket\n",
    "server_socket = socket.socket(socket.AF_INET, socket.SOCK_STREAM)\n",
    "server_socket.bind(('localhost', 65432))\n",
    "server_socket.listen(1) # Allow 1 pending connection\n",
    "\n",
    "print(\"TCP Server is listening...\")\n",
    "\n",
    "while True:\n",
    "    client_socket, client_address = server_socket.accept()\n",
    "    print(f\"Connected to {client_address}\")\n",
    "    data = client_socket.recv(1024)\n",
    "    print(f\"Received: {data.decode()}\")\n",
    "    # Echo back the data\n",
    "    client_socket.sendall(b\"ACK: \" + data)\n"
   ]
  },
  {
   "cell_type": "markdown",
   "metadata": {},
   "source": [
    "Excersise 1"
   ]
  },
  {
   "cell_type": "code",
   "execution_count": null,
   "metadata": {},
   "outputs": [],
   "source": [
    "import socket\n",
    "client_socket = socket.socket(socket.AF_INET, socket.SOCK_STREAM)\n",
    "client_socket.connect(('localhost', 65432))\n",
    "message = input(\"Enter message: \")\n",
    "client_socket.sendall(message.encode())\n",
    "response = client_socket.recv(1024)\n",
    "print(f\"Server response: {response.decode()}\")\n",
    "client_socket.close()\n"
   ]
  },
  {
   "cell_type": "code",
   "execution_count": null,
   "metadata": {},
   "outputs": [],
   "source": [
    "import socket\n",
    "import datetime\n",
    "\n",
    "client_socket = socket.socket(socket.AF_INET, socket.SOCK_STREAM)\n",
    "\n",
    "client_socket.connect(('localhost', 65432))\n",
    "\n",
    "start_time = datetime.datetime.now()\n",
    "\n",
    "message = input(\"Enter message: \")\n",
    "client_socket.sendall(message.encode())\n",
    "\n",
    "response = client_socket.recv(1024)\n",
    "print(f\"Server response: {response.decode()}\")\n",
    "\n",
    "end_time = datetime.datetime.now()\n",
    "\n",
    "duration = end_time - start_time\n",
    "print(f\"Time taken to send data: {duration}\")\n",
    "\n",
    "client_socket.close()"
   ]
  },
  {
   "cell_type": "markdown",
   "metadata": {},
   "source": [
    "Exercise 2"
   ]
  },
  {
   "cell_type": "code",
   "execution_count": null,
   "metadata": {},
   "outputs": [],
   "source": [
    "import socket\n",
    "import datetime\n",
    "\n",
    "client_socket = socket.socket(socket.AF_INET, socket.SOCK_STREAM)\n",
    "\n",
    "client_socket.connect(('localhost', 65432))\n",
    "\n",
    "start_time = datetime.datetime.now()\n",
    "\n",
    "message = input(\"Enter message: \")\n",
    "client_socket.sendall(message.encode())\n",
    "\n",
    "response = client_socket.recv(1024)\n",
    "print(f\"Server response: {response.decode()}\")\n",
    "\n",
    "end_time = datetime.datetime.now()\n",
    "\n",
    "duration = end_time - start_time\n",
    "print(f\"Time taken to send data: {duration}\")\n",
    "\n",
    "client_socket.close()"
   ]
  },
  {
   "cell_type": "code",
   "execution_count": null,
   "metadata": {},
   "outputs": [],
   "source": [
    "with open('file_to_send.txt', 'rb') as file:\n",
    "    data = file.read()\n",
    "    print(data)"
   ]
  },
  {
   "cell_type": "code",
   "execution_count": null,
   "metadata": {},
   "outputs": [
    {
     "ename": "",
     "evalue": "",
     "output_type": "error",
     "traceback": [
      "\u001b[1;31mRunning cells with 'miniconda3 (Python 3.12.9)' requires the ipykernel package.\n",
      "\u001b[1;31mRun the following command to install 'ipykernel' into the Python environment. \n",
      "\u001b[1;31mCommand: 'conda install -p c:\\ProgramData\\miniconda3 ipykernel --update-deps --force-reinstall'"
     ]
    }
   ],
   "source": [
    "from cryptography.fernet import Fernet\n",
    "import socket\n",
    "import threading\n",
    "\n",
    "# Generate encryption key\n",
    "key = Fernet.generate_key()\n",
    "cipher = Fernet(key)\n",
    "clients = []\n",
    "clients_lock = threading.Lock()\n",
    "\n",
    "def handle_client(client_socket, client_address):\n",
    "    print(f\"New connection from {client_address}\")\n",
    "    clients.append(client_socket)\n",
    "    client_socket.send(key)\n",
    "    \n",
    "    while True:\n",
    "        try:\n",
    "            encrypted_message = client_socket.recv(1024)\n",
    "            if not encrypted_message:\n",
    "                break\n",
    "            message = cipher.decrypt(encrypted_message).decode()\n",
    "            print(f\"Decrypted Message from {client_address}: {message}\")\n",
    "            broadcast(encrypted_message, client_socket)\n",
    "        except ConnectionResetError:\n",
    "            break\n",
    "    \n",
    "    print(f\"{client_address} has disconnected\")\n",
    "    clients.remove(client_socket)\n",
    "    client_socket.close()\n",
    "\n",
    "def broadcast(message, sender_socket):\n",
    "    for client in clients:\n",
    "        if client != sender_socket:\n",
    "            client.send(message)\n",
    "\n",
    "server_socket = socket.socket(socket.AF_INET, socket.SOCK_STREAM)\n",
    "server_socket.setsockopt(socket.SOL_SOCKET, socket.SO_REUSEADDR, 1)\n",
    "server_socket.bind(('localhost', 65432))\n",
    "server_socket.listen(5)\n",
    "print(\"Encrypted Multi-Client TCP Server is listening...\")\n",
    "\n",
    "while True:\n",
    "    client_socket, client_address = server_socket.accept()\n",
    "    thread = threading.Thread(target=handle_client, args=(client_socket, client_address))\n",
    "    thread.start()"
   ]
  },
  {
   "cell_type": "markdown",
   "metadata": {},
   "source": [
    "Exercise 7"
   ]
  },
  {
   "cell_type": "code",
   "execution_count": 1,
   "metadata": {},
   "outputs": [
    {
     "name": "stdout",
     "output_type": "stream",
     "text": [
      "Encrypted Multi-Client TCP Server is listening...\n"
     ]
    },
    {
     "ename": "",
     "evalue": "",
     "output_type": "error",
     "traceback": [
      "\u001b[1;31mCannot execute code, session has been disposed. Please try restarting the Kernel."
     ]
    },
    {
     "ename": "",
     "evalue": "",
     "output_type": "error",
     "traceback": [
      "\u001b[1;31mCannot execute code, session has been disposed. Please try restarting the Kernel. \n",
      "\u001b[1;31mView Jupyter <a href='command:jupyter.viewOutput'>log</a> for further details."
     ]
    }
   ],
   "source": [
    "import socket\n",
    "import threading\n",
    "from cryptography.fernet import Fernet\n",
    "\n",
    "# Generate encryption key\n",
    "key = Fernet.generate_key()\n",
    "cipher = Fernet(key)\n",
    "clients = []\n",
    "clients_lock = threading.Lock()\n",
    "\n",
    "def handle_client(client_socket, client_address):\n",
    "    print(f\"New connection from {client_address}\")\n",
    "    with clients_lock:\n",
    "        clients.append(client_socket)\n",
    "    client_socket.send(key)\n",
    "    \n",
    "    try:\n",
    "        while True:\n",
    "            encrypted_message = client_socket.recv(1024)\n",
    "            if not encrypted_message:\n",
    "                break\n",
    "            message = cipher.decrypt(encrypted_message).decode()\n",
    "            print(f\"Decrypted Message from {client_address}: {message}\")\n",
    "            broadcast(encrypted_message, client_socket)\n",
    "    except ConnectionResetError:\n",
    "        print(f\"{client_address} has disconnected\")\n",
    "    finally:\n",
    "        with clients_lock:\n",
    "            clients.remove(client_socket)\n",
    "        client_socket.close()\n",
    "\n",
    "def broadcast(message, sender_socket):\n",
    "    with clients_lock:\n",
    "        for client in clients:\n",
    "            if client != sender_socket:\n",
    "                try:\n",
    "                    client.send(message)\n",
    "                except ConnectionResetError:\n",
    "                    clients.remove(client)\n",
    "                    client.close()\n",
    "\n",
    "def start_server():\n",
    "    server_socket = socket.socket(socket.AF_INET, socket.SOCK_STREAM)\n",
    "    server_socket.setsockopt(socket.SOL_SOCKET, socket.SO_REUSEADDR, 1)\n",
    "    server_socket.bind(('localhost', 65432))\n",
    "    server_socket.listen(5)\n",
    "    print(\"Encrypted Multi-Client TCP Server is listening...\")\n",
    "    \n",
    "    try:\n",
    "        while True:\n",
    "            client_socket, client_address = server_socket.accept()\n",
    "            thread = threading.Thread(target=handle_client, args=(client_socket, client_address))\n",
    "            thread.start()\n",
    "    except KeyboardInterrupt:\n",
    "        print(\"Server is shutting down...\")\n",
    "    finally:\n",
    "        server_socket.close()\n",
    "\n",
    "if __name__ == \"__main__\":\n",
    "    start_server()"
   ]
  },
  {
   "cell_type": "markdown",
   "metadata": {},
   "source": [
    "Exercise 8"
   ]
  },
  {
   "cell_type": "code",
   "execution_count": null,
   "metadata": {},
   "outputs": [
    {
     "name": "stdout",
     "output_type": "stream",
     "text": [
      "TCP Server is listening...\n"
     ]
    }
   ],
   "source": [
    "import socket\n",
    "import threading\n",
    "\n",
    "\n",
    "def handle_client(client_socket, client_address):\n",
    "    data = client_socket.recv(1024)\n",
    "    print(f\"Received from {client_address}: {data.decode('utf-8')}\")\n",
    "    client_socket.close()\n",
    "\n",
    "\n",
    "def start_server():\n",
    "    server_socket = socket.socket(socket.AF_INET, socket.SOCK_STREAM)\n",
    "    server_socket.bind(('localhost', 65438))\n",
    "    server_socket.listen(2)\n",
    "    print(\"TCP Server is listening...\")\n",
    "\n",
    "    while True:\n",
    "        client_socket, client_address = server_socket.accept()\n",
    "        print(f\"Connected to {client_address}\")\n",
    "        thread = threading.Thread(target=handle_client, args=(client_socket, client_address))\n",
    "        thread.start()\n",
    "\n",
    "\n",
    "start_server()"
   ]
  }
 ],
 "metadata": {
  "kernelspec": {
   "display_name": "Python 3",
   "language": "python",
   "name": "python3"
  },
  "language_info": {
   "codemirror_mode": {
    "name": "ipython",
    "version": 3
   },
   "file_extension": ".py",
   "mimetype": "text/x-python",
   "name": "python",
   "nbconvert_exporter": "python",
   "pygments_lexer": "ipython3",
   "version": "3.13.2"
  }
 },
 "nbformat": 4,
 "nbformat_minor": 2
}
